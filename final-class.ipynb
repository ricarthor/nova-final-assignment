{
 "cells": [
  {
   "cell_type": "markdown",
   "metadata": {},
   "source": [
    "# Final challenge\n",
    "\n",
    "We will do a project to help influencers with their posts. This should make their publications more data driven and should increase their popularity - creating the possibility to have a business around this.\n",
    "\n",
    "To do so, we will use an API called RiteKit"
   ]
  },
  {
   "cell_type": "markdown",
   "metadata": {},
   "source": [
    "## Steps to use the API\n",
    "- Sign up \n",
    "- Get your clientID from here: https://ritekit.com/developer/dashboard/\n",
    "\n",
    "Below is the example on how to use the API's secret \n",
    "\n",
    "```python\n",
    "import requests\n",
    "params = {'client_id': 'YOUR_CLIENT_ID'}\n",
    "\n",
    "# auto-hash\n",
    "r = requests.get(\"\"\"https://api.ritekit.com/v1/stats/auto-hashtag?post=Is%20artificial%20intelligence%20the%20future%20of%20customer%20service%3F&maxHashtags=2&hashtagPosition=auto\"\"\",\n",
    "                params=params)\n",
    "```\n",
    "\n",
    "\n",
    "## The challenge\n",
    "\n",
    "> You will build a business around analysing influencers data. The business you want to build is up to you. Here are some ideas: \n",
    "* You can provide a detail report on each post\n",
    "* you can recommend new posts\n",
    "* you can provide analysis on specific hashtags the influencers may want to use\n",
    "* Yearly award for the best influencer - **let's regulate the industry :D **\n",
    "    * One important note: Your influencers might not even choose to use you, you can have a business where you go to their profiles - they are public - and you make analysis. \n",
    "\n",
    "> Use your imagination and make something cool! \n",
    "\n",
    "## Some guidelines\n",
    "\n",
    "```python\n",
    "if feeling_lost:\n",
    "    print('follow some guidelines')\n",
    "else:\n",
    "    print('Make your own magic! :)') \n",
    "```\n",
    "\n",
    "1. Start by making your API authentication and get your clientId. You need this to make requests\n",
    "2. Start by defining your goals with your business. Some questions that might help: \n",
    "    * What is the problem I'm solving for the influencers\n",
    "    * What do I want to deliver as a result\n",
    "    * What is the information I need from the influencer in order to achieve my goals \n",
    "3. Don't try to automate everything in the beginning! Start by hardcoding the different pieces and then you have the entire flow you automate. \n",
    "\n",
    "## Deliverables\n",
    "* Deliver a description of what you are planning to build. \n",
    "    * This description should include all the specifications of your project\n",
    "    * Where are you collecting your data: Are the influencers inputing the data, are you using another API to get that? \n",
    "    * \n",
    "* Make a quick presentation to present at the end of the next class.\n",
    "    * This should include a demo of your brand new product! "
   ]
  }
 ],
 "metadata": {
  "kernelspec": {
   "display_name": "Python 3",
   "language": "python",
   "name": "python3"
  },
  "language_info": {
   "codemirror_mode": {
    "name": "ipython",
    "version": 3
   },
   "file_extension": ".py",
   "mimetype": "text/x-python",
   "name": "python",
   "nbconvert_exporter": "python",
   "pygments_lexer": "ipython3",
   "version": "3.6.4"
  }
 },
 "nbformat": 4,
 "nbformat_minor": 2
}
